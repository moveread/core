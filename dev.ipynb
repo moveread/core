{
 "cells": [
  {
   "cell_type": "code",
   "execution_count": 10,
   "metadata": {},
   "outputs": [
    {
     "data": {
      "text/plain": [
       "True"
      ]
     },
     "execution_count": 10,
     "metadata": {},
     "output_type": "execute_result"
    }
   ],
   "source": [
    "import os\n",
    "import sys\n",
    "from dotenv import load_dotenv\n",
    "from moveread.core import Core, cli\n",
    "\n",
    "load_dotenv()"
   ]
  },
  {
   "cell_type": "code",
   "execution_count": 9,
   "metadata": {},
   "outputs": [],
   "source": [
    "core = Core.of(os.environ['CORE_META'], os.environ['CORE_BLOBS'])\n",
    "core.games = core.games.prefix('fia24')"
   ]
  },
  {
   "cell_type": "code",
   "execution_count": 11,
   "metadata": {},
   "outputs": [
    {
     "name": "stdout",
     "output_type": "stream",
     "text": [
      "Reading keys...\n",
      "Downloading... [3/25] - skipped 0"
     ]
    },
    {
     "data": {
      "text/plain": [
       "Left(value=InvalidData(detail=\"2 validation errors for RootModel[Game]\\nplayers.0.meta.language.literal['CA','EN','DE','RU','BG','FR','RO','DK','AZ','TR','PL','IS','NL','HU','LV','PT']\\n  Input should be 'CA', 'EN', 'DE', 'RU', 'BG', 'FR', 'RO', 'DK', 'AZ', 'TR', 'PL', 'IS', 'NL', 'HU', 'LV' or 'PT' [type=literal_error, input_value='CZ', input_type=str]\\n    For further information visit https://errors.pydantic.dev/2.8/v/literal_error\\nplayers.0.meta.language.literal['N/A']\\n  Input should be 'N/A' [type=literal_error, input_value='CZ', input_type=str]\\n    For further information visit https://errors.pydantic.dev/2.8/v/literal_error\", reason='invalid-data'), tag='left')"
      ]
     },
     "execution_count": 11,
     "metadata": {},
     "output_type": "execute_result"
    },
    {
     "name": "stdout",
     "output_type": "stream",
     "text": [
      "Downloading... [23/25] - skipped 0"
     ]
    }
   ],
   "source": [
    "out = Core.at('fia24')\n",
    "await core.dump(out, logstream=sys.stdout)"
   ]
  }
 ],
 "metadata": {
  "kernelspec": {
   "display_name": ".venv",
   "language": "python",
   "name": "python3"
  },
  "language_info": {
   "codemirror_mode": {
    "name": "ipython",
    "version": 3
   },
   "file_extension": ".py",
   "mimetype": "text/x-python",
   "name": "python",
   "nbconvert_exporter": "python",
   "pygments_lexer": "ipython3",
   "version": "3.11.9"
  }
 },
 "nbformat": 4,
 "nbformat_minor": 2
}

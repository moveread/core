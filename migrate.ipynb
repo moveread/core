{
 "cells": [
  {
   "cell_type": "code",
   "execution_count": 1,
   "metadata": {},
   "outputs": [],
   "source": [
    "from haskellian import either as E\n",
    "import pure_cv as vc\n",
    "from moveread.core import CoreAPI\n",
    "from moveread.export import player_samples, player_boxes\n",
    "import chess_dataset as cds\n",
    "import files_dataset as fds\n",
    "import scoresheet_models as sm\n",
    "import chess_notation as cn\n",
    "import os\n",
    "import fs"
   ]
  },
  {
   "cell_type": "code",
   "execution_count": 2,
   "metadata": {},
   "outputs": [],
   "source": [
    "model_ids = (await sm.fetch_models()).unsafe()\n",
    "models = {model_id: (await sm.fetch_model(model_id)).unsafe() for model_id in model_ids}"
   ]
  },
  {
   "cell_type": "code",
   "execution_count": 3,
   "metadata": {},
   "outputs": [],
   "source": [
    "core = CoreAPI.at('.core/llobregat-b-1')\n",
    "games = await core.games.items().map(E.unsafe).sync()"
   ]
  },
  {
   "cell_type": "code",
   "execution_count": 7,
   "metadata": {},
   "outputs": [],
   "source": [
    "for i, (id, game) in enumerate(games):\n",
    "  if not game.meta or not game.meta.tournament:\n",
    "    continue\n",
    "  tnmt = game.meta.tournament\n",
    "  if not tnmt:\n",
    "    print('NO TNMT:', id)\n",
    "    continue\n",
    "\n",
    "  if not game.meta.pgn:\n",
    "    print('NO PGN:', id)\n",
    "    continue\n",
    "\n",
    "  path = 'data/' + f\"{tnmt.tournId}/{tnmt.group}-{tnmt.round}-{tnmt.board}\"\n",
    "  os.makedirs(path, exist_ok=True)\n",
    "\n",
    "  players = []\n",
    "  for j, player in enumerate(game.players):\n",
    "    boxes = await player_boxes(player, blobs=core.blobs, models=models)\n",
    "    boxes = [s[0] for s in boxes]\n",
    "    imgs = [vc.encode(box, '.jpg') for box in boxes]\n",
    "    fs.create_tarfile([(f'box{i}.jpg', img) for i, img in enumerate(imgs)], path + f'/boxes{j}.tar')\n",
    "    p = cds.Meta.Player(\n",
    "      language=player.meta.language,\n",
    "      styles=cn.Styles.model_validate(dict(player.meta.styles)),\n",
    "      files_dataset={'boxes': fds.Archive(archive=f'boxes{j}.tar', num_files=len(boxes), format='tar')}\n",
    "    )\n",
    "    players.append(p)\n",
    "\n",
    "  meta = cds.Meta(pgn=game.meta.pgn, players=players)\n",
    "  with open(path + '/meta.json', 'w') as f:\n",
    "    json = cds.MetaJson(chess_dataset=meta).model_dump_json(indent=2, exclude_none=True, exclude_defaults=True)\n",
    "    f.write(json)"
   ]
  }
 ],
 "metadata": {
  "kernelspec": {
   "display_name": ".venv",
   "language": "python",
   "name": "python3"
  },
  "language_info": {
   "codemirror_mode": {
    "name": "ipython",
    "version": 3
   },
   "file_extension": ".py",
   "mimetype": "text/x-python",
   "name": "python",
   "nbconvert_exporter": "python",
   "pygments_lexer": "ipython3",
   "version": "3.11.6"
  }
 },
 "nbformat": 4,
 "nbformat_minor": 2
}

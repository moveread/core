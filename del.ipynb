{
 "cells": [
  {
   "cell_type": "code",
   "execution_count": 1,
   "metadata": {},
   "outputs": [],
   "source": [
    "import os\n",
    "import base64\n",
    "from dotenv import load_dotenv\n",
    "from haskellian import either as E\n",
    "from kv import CosmosPartitionKV, KV\n",
    "from moveread.core import Core, Game, glob, ExistentGame, ExistentBlobs\n",
    "load_dotenv()\n",
    "\n",
    "CORE_META = os.environ['CORE_META']"
   ]
  },
  {
   "cell_type": "code",
   "execution_count": 2,
   "metadata": {},
   "outputs": [],
   "source": [
    "kv = KV.of(CORE_META)\n",
    "keys = await kv.keys().map(E.unsafe).sync()"
   ]
  },
  {
   "cell_type": "code",
   "execution_count": 5,
   "metadata": {},
   "outputs": [
    {
     "data": {
      "text/plain": [
       "{'benasque24',\n",
       " 'candidates22',\n",
       " 'chessclassic21',\n",
       " 'esna23',\n",
       " 'llinars24',\n",
       " 'llobregat23',\n",
       " 'torre24'}"
      ]
     },
     "execution_count": 5,
     "metadata": {},
     "output_type": "execute_result"
    }
   ],
   "source": [
    "{ k.split('/')[0] for k in keys }"
   ]
  },
  {
   "cell_type": "code",
   "execution_count": 11,
   "metadata": {},
   "outputs": [
    {
     "data": {
      "text/plain": [
       "[]"
      ]
     },
     "execution_count": 11,
     "metadata": {},
     "output_type": "execute_result"
    }
   ],
   "source": [
    "await kv.prefixed('chessclassic21').keys().sync()\n",
    "# await kv.prefixed('chessclassic21').clear()"
   ]
  }
 ],
 "metadata": {
  "kernelspec": {
   "display_name": ".venv",
   "language": "python",
   "name": "python3"
  },
  "language_info": {
   "codemirror_mode": {
    "name": "ipython",
    "version": 3
   },
   "file_extension": ".py",
   "mimetype": "text/x-python",
   "name": "python",
   "nbconvert_exporter": "python",
   "pygments_lexer": "ipython3",
   "version": "3.11.9"
  }
 },
 "nbformat": 4,
 "nbformat_minor": 2
}
